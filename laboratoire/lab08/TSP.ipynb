{
 "cells": [
  {
   "cell_type": "code",
   "execution_count": 1,
   "metadata": {},
   "outputs": [],
   "source": [
    "import sys, random, os\n",
    "\n",
    "from pyevolve import G1DList, GAllele\n",
    "from pyevolve import GSimpleGA\n",
    "from pyevolve import Mutators\n",
    "from pyevolve import Crossovers\n",
    "from pyevolve import Consts\n",
    "from pyevolve import DBAdapters\n",
    "from pyevolve import Selectors\n",
    "from geopy.distance import geodesic\n",
    "from math import sqrt\n",
    "\n",
    "random.seed(1024)\n",
    "\n",
    "PIL_SUPPORT = None\n",
    "\n",
    "try:\n",
    "    from PIL import Image, ImageDraw, ImageFont\n",
    "    PIL_SUPPORT = True\n",
    "except ImportError:\n",
    "    PIL_SUPPORT = False\n",
    "\n",
    "R = 6371000; # metres\n",
    "LAT = [16.47, 16.47, 20.09, 22.39, 25.23, 22.00, 20.47, 17.20, 16.30, 14.05, 16.53, 21.52, 19.41, 20.09]\n",
    "LON = [96.10, 94.44, 92.54, 93.37, 97.24, 96.05, 97.02, 96.29, 97.38, 98.12, 97.38, 95.59, 97.13, 94.55]\n",
    "CITIES = len(LAT)\n",
    "WIDTH   = 1024\n",
    "HEIGHT  = 768\n",
    "LAST_SCORE = -1\n",
    "\n",
    "cm     = []\n",
    "coords = list(zip(LAT, LON))"
   ]
  },
  {
   "cell_type": "code",
   "execution_count": 2,
   "metadata": {},
   "outputs": [],
   "source": [
    "def cartesian_matrix(coords):\n",
    "    \"\"\" A distance matrix \"\"\"\n",
    "    matrix={}\n",
    "    for i, (x1, y1) in enumerate(coords):\n",
    "        for j, (x2, y2) in enumerate(coords):\n",
    "            dx, dy = x1 - x2, y1 - y2\n",
    "            dist = sqrt(dx * dx + dy * dy)\n",
    "            matrix[i, j] = dist\n",
    "    return matrix"
   ]
  },
  {
   "cell_type": "code",
   "execution_count": 3,
   "metadata": {},
   "outputs": [],
   "source": [
    "def lat_long_cartesian_matrix(coords):\n",
    "    \"\"\" A distance matrix \"\"\"\n",
    "    matrix={}\n",
    "    for i, town1 in enumerate(coords):\n",
    "        for j, town2 in enumerate(coords):\n",
    "            # dlat, dlong = math.radians(lat2-lat1), math.radians(long1-long2)\n",
    "            # latRad1 = math.radians(lat1)\n",
    "            # latRad2 = math.radians(lat2)\n",
    "            # a = math.sin(dlat/2) ** 2 + math.cos(latRad1) * math.cos(latRad2) * math.sin(dlong/2) ** 2;\n",
    "            # c = 2 * math.atan2(math.sqrt(a), math.sqrt(1-a));\n",
    "            # d = R * c;\n",
    "            matrix[i, j] = geodesic(town1, town2).km\n",
    "    return matrix"
   ]
  },
  {
   "cell_type": "code",
   "execution_count": 4,
   "metadata": {},
   "outputs": [],
   "source": [
    "def fitness(matrix, chromosome):\n",
    "    \"\"\" Returns the total length of the tour \"\"\"\n",
    "    total = 0\n",
    "    t = chromosome.getInternalList()\n",
    "    chromosomeSize = len(t)\n",
    "    for i in range(chromosomeSize):\n",
    "        j = (i + 1) % chromosomeSize\n",
    "        total += matrix[t[i], t[j]]\n",
    "    return total"
   ]
  },
  {
   "cell_type": "code",
   "execution_count": 5,
   "metadata": {},
   "outputs": [],
   "source": [
    "def G1DListTSPInitializator(genome, **args):\n",
    "    \"\"\" The initializator for the TSP (We just shuffle the list) \"\"\"\n",
    "    lst = [i for i in range(genome.getListSize())]\n",
    "    random.shuffle(lst)\n",
    "    genome.setInternalList(lst)"
   ]
  },
  {
   "cell_type": "code",
   "execution_count": 6,
   "metadata": {},
   "outputs": [],
   "source": [
    "def current_best(ga_engine):\n",
    "    # Here you have access to the GA Engine\n",
    "    best = ga.bestIndividual()\n",
    "    for i in range(0, len(best)):\n",
    "        print(chr(best[i]))\n",
    "    return False"
   ]
  },
  {
   "cell_type": "code",
   "execution_count": 7,
   "metadata": {
    "scrolled": false
   },
   "outputs": [
    {
     "name": "stdout",
     "output_type": "stream",
     "text": [
      "Gen. 0 (0.00%): Max/Min/Avg Fitness(Raw) [8165.07(8460.03)/5506.63(5225.38)/6804.22(6804.22)]\n",
      "Gen. 10 (2.00%): Max/Min/Avg Fitness(Raw) [7022.85(7662.03)/4710.90(4087.55)/5852.37(5852.37)]\n",
      "Gen. 20 (4.00%): Max/Min/Avg Fitness(Raw) [7351.18(7468.09)/4265.12(4087.55)/6125.98(6125.98)]\n",
      "Gen. 30 (6.00%): Max/Min/Avg Fitness(Raw) [7362.97(7897.91)/4532.95(3834.24)/6135.81(6135.81)]\n",
      "Gen. 40 (8.00%): Max/Min/Avg Fitness(Raw) [7417.79(7820.40)/4410.87(3834.24)/6181.49(6181.49)]\n",
      "Gen. 50 (10.00%): Max/Min/Avg Fitness(Raw) [7142.74(8175.94)/4818.37(3834.24)/5952.28(5952.28)]\n",
      "Gen. 60 (12.00%): Max/Min/Avg Fitness(Raw) [7345.45(7653.86)/4294.44(3834.24)/6121.21(6121.21)]\n",
      "Gen. 70 (14.00%): Max/Min/Avg Fitness(Raw) [7202.93(7409.79)/4140.38(3819.53)/6002.45(6002.45)]\n",
      "Gen. 80 (16.00%): Max/Min/Avg Fitness(Raw) [7432.96(7979.21)/4546.18(3819.53)/6194.13(6194.13)]\n",
      "Gen. 90 (18.00%): Max/Min/Avg Fitness(Raw) [7255.74(7262.26)/3813.50(3801.47)/6046.45(6046.45)]\n",
      "Gen. 100 (20.00%): Max/Min/Avg Fitness(Raw) [7357.38(7825.12)/4444.74(3801.47)/6131.15(6131.15)]\n",
      "Gen. 110 (22.00%): Max/Min/Avg Fitness(Raw) [7271.19(7756.41)/4447.02(3801.47)/6059.32(6059.32)]\n",
      "Gen. 120 (24.00%): Max/Min/Avg Fitness(Raw) [7255.33(7698.40)/4372.45(3759.21)/6046.11(6046.11)]\n",
      "Gen. 130 (26.00%): Max/Min/Avg Fitness(Raw) [7233.01(7745.71)/4436.06(3759.21)/6027.51(6027.51)]\n",
      "Gen. 140 (28.00%): Max/Min/Avg Fitness(Raw) [7118.28(7881.55)/4514.84(3603.15)/5931.90(5931.90)]\n",
      "Gen. 150 (30.00%): Max/Min/Avg Fitness(Raw) [7386.27(7834.95)/4284.85(3603.15)/6155.22(6155.22)]\n",
      "Gen. 160 (32.00%): Max/Min/Avg Fitness(Raw) [7134.33(7634.64)/4296.78(3603.15)/5945.27(5945.27)]\n",
      "Gen. 170 (34.00%): Max/Min/Avg Fitness(Raw) [7150.38(7349.23)/3939.98(3603.15)/5958.65(5958.65)]\n",
      "Gen. 180 (36.00%): Max/Min/Avg Fitness(Raw) [6937.57(7305.52)/4087.73(3548.79)/5781.31(5781.31)]\n",
      "Gen. 190 (38.00%): Max/Min/Avg Fitness(Raw) [7026.34(7507.50)/4220.48(3548.79)/5855.28(5855.28)]\n",
      "Gen. 200 (40.00%): Max/Min/Avg Fitness(Raw) [7387.80(7916.40)/4332.03(3548.79)/6156.50(6156.50)]\n",
      "Gen. 210 (42.00%): Max/Min/Avg Fitness(Raw) [7093.35(7502.08)/4155.69(3548.79)/5911.12(5911.12)]\n",
      "Gen. 220 (44.00%): Max/Min/Avg Fitness(Raw) [7300.45(7417.40)/3771.07(3548.79)/6083.70(6083.70)]\n",
      "Gen. 230 (46.00%): Max/Min/Avg Fitness(Raw) [7262.56(7995.51)/4492.93(3548.79)/6052.14(6052.14)]\n",
      "Gen. 240 (48.00%): Max/Min/Avg Fitness(Raw) [7384.85(7417.03)/3615.17(3548.79)/6154.04(6154.04)]\n",
      "Gen. 250 (50.00%): Max/Min/Avg Fitness(Raw) [7164.93(7748.24)/4343.61(3548.79)/5970.77(5970.77)]\n",
      "Gen. 260 (52.00%): Max/Min/Avg Fitness(Raw) [7332.71(8030.72)/4480.06(3548.79)/6110.59(6110.59)]\n",
      "Gen. 270 (54.00%): Max/Min/Avg Fitness(Raw) [7229.70(7705.27)/4249.45(3548.79)/6024.75(6024.75)]\n",
      "Gen. 280 (56.00%): Max/Min/Avg Fitness(Raw) [7119.65(8025.43)/4580.91(3548.79)/5933.04(5933.04)]\n",
      "Gen. 290 (58.00%): Max/Min/Avg Fitness(Raw) [7155.59(8063.22)/4544.84(3465.56)/5962.99(5962.99)]\n",
      "Gen. 300 (60.00%): Max/Min/Avg Fitness(Raw) [6958.51(6910.63)/3365.08(3465.56)/5798.76(5798.76)]\n",
      "Gen. 310 (62.00%): Max/Min/Avg Fitness(Raw) [7621.03(7701.72)/3637.90(3465.56)/6350.86(6350.86)]\n",
      "Gen. 320 (64.00%): Max/Min/Avg Fitness(Raw) [7307.64(8018.54)/4432.72(3465.56)/6089.70(6089.70)]\n",
      "Gen. 330 (66.00%): Max/Min/Avg Fitness(Raw) [7027.08(7525.50)/4179.14(3465.56)/5855.90(5855.90)]\n",
      "Gen. 340 (68.00%): Max/Min/Avg Fitness(Raw) [7176.84(7477.78)/3971.14(3465.56)/5980.70(5980.70)]\n",
      "Gen. 350 (70.00%): Max/Min/Avg Fitness(Raw) [7370.83(7850.37)/4217.09(3465.56)/6142.36(6142.36)]\n",
      "Gen. 360 (72.00%): Max/Min/Avg Fitness(Raw) [7217.25(7537.25)/4001.13(3465.56)/6014.38(6014.38)]\n",
      "Gen. 370 (74.00%): Max/Min/Avg Fitness(Raw) [7177.68(8092.30)/4519.12(3401.13)/5981.40(5981.40)]\n",
      "Gen. 380 (76.00%): Max/Min/Avg Fitness(Raw) [6933.13(7887.13)/4475.85(3401.13)/5777.61(5777.61)]\n",
      "Gen. 390 (78.00%): Max/Min/Avg Fitness(Raw) [7487.40(8043.00)/4275.55(3401.13)/6239.50(6239.50)]\n",
      "Gen. 400 (80.00%): Max/Min/Avg Fitness(Raw) [7207.41(7659.22)/4113.14(3401.13)/6006.18(6006.18)]\n",
      "Gen. 410 (82.00%): Max/Min/Avg Fitness(Raw) [7384.45(7888.03)/4200.37(3401.13)/6153.71(6153.71)]\n",
      "Gen. 420 (84.00%): Max/Min/Avg Fitness(Raw) [7322.52(7443.11)/3644.01(3401.13)/6102.10(6102.10)]\n",
      "Gen. 430 (86.00%): Max/Min/Avg Fitness(Raw) [7159.58(7890.42)/4375.47(3401.13)/5966.32(5966.32)]\n",
      "Gen. 440 (88.00%): Max/Min/Avg Fitness(Raw) [7101.68(7431.47)/3949.60(3401.13)/5918.07(5918.07)]\n",
      "Gen. 450 (90.00%): Max/Min/Avg Fitness(Raw) [7364.52(7773.38)/4043.98(3346.76)/6137.10(6137.10)]\n",
      "Gen. 460 (92.00%): Max/Min/Avg Fitness(Raw) [7166.19(7534.51)/3965.48(3346.76)/5971.83(5971.83)]\n",
      "Gen. 470 (94.00%): Max/Min/Avg Fitness(Raw) [7224.98(7866.33)/4276.05(3346.76)/6020.82(6020.82)]\n",
      "Gen. 480 (96.00%): Max/Min/Avg Fitness(Raw) [7187.06(7627.06)/4056.65(3346.76)/5989.21(5989.21)]\n",
      "Gen. 490 (98.00%): Max/Min/Avg Fitness(Raw) [7172.61(7576.91)/4011.55(3346.76)/5977.17(5977.17)]\n",
      "Gen. 500 (100.00%): Max/Min/Avg Fitness(Raw) [7029.36(7338.60)/3871.15(3346.76)/5857.80(5857.80)]\n",
      "Total time elapsed: 6.014 seconds.\n"
     ]
    }
   ],
   "source": [
    "global cm, LAT, LON, WIDTH, HEIGHT\n",
    "\n",
    "cm     = lat_long_cartesian_matrix(coords)\n",
    "genome = G1DList.G1DList(len(coords))\n",
    "\n",
    "genome.evaluator.set(lambda chromosome: fitness(cm, chromosome))\n",
    "genome.crossover.set(Crossovers.G1DListCrossoverEdge)\n",
    "genome.initializator.set(G1DListTSPInitializator)\n",
    "genome.mutator.set(Mutators.G1DListMutatorSwap)\n",
    "\n",
    "# 3662.69\n",
    "ga = GSimpleGA.GSimpleGA(genome)\n",
    "ga.setGenerations(500) # default 100\n",
    "ga.setMinimax(Consts.minimaxType[\"minimize\"])\n",
    "ga.setCrossoverRate(0.9) #default 0.9\n",
    "ga.setMutationRate(0.1) # default 0.02\n",
    "ga.setPopulationSize(80) # default 80\n",
    "ga.selector.set(Selectors.GTournamentSelector) # default Selectors.GRankSelector\n",
    "ga.setElitism(True)\n",
    "\n",
    "# Allows plotting nice graphs by running `python pyevolve_graph.py -0 -m -i run1`\n",
    "dbadapter = DBAdapters.DBSQLite(identify=\"run1\")\n",
    "ga.setDBAdapter(dbadapter)\n",
    "\n",
    "# This is to make a video\n",
    "ga.evolve(freq_stats=10)\n",
    "\n",
    "best = ga.bestIndividual()"
   ]
  },
  {
   "cell_type": "code",
   "execution_count": 8,
   "metadata": {},
   "outputs": [
    {
     "name": "stdout",
     "output_type": "stream",
     "text": [
      "- GenomeBase\n",
      "\tScore:\t\t\t 3346.761974\n",
      "\tFitness:\t\t 3871.150712\n",
      "\n",
      "\tParams:\t\t {}\n",
      "\n",
      "\tSlot [Evaluator] (Count: 1)\n",
      "\t\tName: <lambda> - Weight: 0.50\n",
      "\tSlot [Initializator] (Count: 1)\n",
      "\t\tName: G1DListTSPInitializator - Weight: 0.50\n",
      "\t\tDoc:  The initializator for the TSP (We just shuffle the list) \n",
      "\tSlot [Mutator] (Count: 1)\n",
      "\t\tName: G1DListMutatorSwap - Weight: 0.50\n",
      "\t\tDoc:  The mutator of G1DList, Swap Mutator\n",
      "\n",
      "   .. note:: this mutator is :term:`Data Type Independent`\n",
      "\n",
      "   \n",
      "\tSlot [Crossover] (Count: 1)\n",
      "\t\tName: G1DListCrossoverEdge - Weight: 0.50\n",
      "\t\tDoc:  THe Edge Recombination crossover for G1DList (widely used for TSP problem)\n",
      "\n",
      "   See more information in the `Edge Recombination Operator <http://en.wikipedia.org/wiki/Edge_recombination_operator>`_\n",
      "   Wikipedia entry.\n",
      "   \n",
      "\n",
      "- G1DList\n",
      "\tList size:\t 14\n",
      "\tList:\t\t [12, 6, 11, 5, 4, 3, 2, 13, 1, 0, 9, 8, 10, 7]\n",
      "\n",
      "\n"
     ]
    }
   ],
   "source": [
    "print(best)"
   ]
  }
 ],
 "metadata": {
  "kernelspec": {
   "display_name": "Python 3",
   "language": "python",
   "name": "python3"
  },
  "language_info": {
   "codemirror_mode": {
    "name": "ipython",
    "version": 3
   },
   "file_extension": ".py",
   "mimetype": "text/x-python",
   "name": "python",
   "nbconvert_exporter": "python",
   "pygments_lexer": "ipython3",
   "version": "3.6.4"
  }
 },
 "nbformat": 4,
 "nbformat_minor": 1
}
