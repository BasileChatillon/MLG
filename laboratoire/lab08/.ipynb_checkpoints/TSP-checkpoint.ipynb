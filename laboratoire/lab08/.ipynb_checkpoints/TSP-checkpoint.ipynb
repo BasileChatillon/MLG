{
 "cells": [
  {
   "cell_type": "code",
   "execution_count": 1,
   "metadata": {},
   "outputs": [],
   "source": [
    "from pyevolve import G1DList, GAllele\n",
    "from pyevolve import GSimpleGA\n",
    "from pyevolve import Mutators\n",
    "from pyevolve import Crossovers\n",
    "from pyevolve import Consts\n",
    "from pyevolve import DBAdapters\n",
    "from pyevolve import Selectors\n",
    "from geopy.distance import geodesic\n",
    "\n",
    "import math\n",
    "\n",
    "import sys, random, os\n",
    "random.seed(1024)\n",
    "from math import sqrt\n",
    "\n",
    "PIL_SUPPORT = None\n",
    "\n",
    "try:\n",
    "    from PIL import Image, ImageDraw, ImageFont\n",
    "    PIL_SUPPORT = True\n",
    "except ImportError:\n",
    "    PIL_SUPPORT = False\n",
    "\n",
    "\n",
    "cm     = []\n",
    "R = 6371000; # metres\n",
    "LAT = [16.47, 16.47, 20.09, 22.39, 25.23, 22.00, 20.47, 17.20, 16.30, 14.05, 16.53, 21.52, 19.41, 20.09]\n",
    "LON = [96.10, 94.44, 92.54, 93.37, 97.24, 96.05, 97.02, 96.29, 97.38, 98.12, 97.38, 95.59, 97.13, 94.55]\n",
    "CITIES = len(LAT)\n",
    "coords = list(zip(LAT, LON))\n",
    "WIDTH   = 1024\n",
    "HEIGHT  = 768\n",
    "LAST_SCORE = -1"
   ]
  },
  {
   "cell_type": "code",
   "execution_count": 2,
   "metadata": {},
   "outputs": [],
   "source": [
    "def cartesian_matrix(coords):\n",
    "    \"\"\" A distance matrix \"\"\"\n",
    "    matrix={}\n",
    "    for i,(x1,y1) in enumerate(coords):\n",
    "        for j,(x2,y2) in enumerate(coords):\n",
    "            dx, dy = x1-x2, y1-y2\n",
    "            dist=sqrt(dx*dx + dy*dy)\n",
    "            matrix[i,j] = dist\n",
    "    return matrix"
   ]
  },
  {
   "cell_type": "code",
   "execution_count": 3,
   "metadata": {},
   "outputs": [],
   "source": [
    "def lat_long_cartesian_matrix(coords):\n",
    "    \"\"\" A distance matrix \"\"\"\n",
    "    \n",
    "    matrix={}\n",
    "    for i, town1 in enumerate(coords):\n",
    "        for j, town2 in enumerate(coords):\n",
    "            #dlat, dlong = math.radians(lat2-lat1), math.radians(long1-long2)\n",
    "            #latRad1 = math.radians(lat1)\n",
    "            #latRad2 = math.radians(lat2)\n",
    "            #a = math.sin(dlat/2) ** 2 + math.cos(latRad1) * math.cos(latRad2) * math.sin(dlong/2) ** 2;\n",
    "            #c = 2 * math.atan2(math.sqrt(a), math.sqrt(1-a));\n",
    "            #d = R * c;\n",
    "            matrix[i,j] = geodesic(town1, town2).km\n",
    "    return matrix"
   ]
  },
  {
   "cell_type": "code",
   "execution_count": 4,
   "metadata": {},
   "outputs": [],
   "source": [
    "def tour_length(matrix, tour):\n",
    "    \"\"\" Returns the total length of the tour \"\"\"\n",
    "    total = 0\n",
    "    t = tour.getInternalList()\n",
    "    for i in range(CITIES):\n",
    "        j      = (i+1)%CITIES\n",
    "        total += matrix[t[i], t[j]]\n",
    "    return total"
   ]
  },
  {
   "cell_type": "code",
   "execution_count": 5,
   "metadata": {},
   "outputs": [],
   "source": [
    "def G1DListTSPInitializator(genome, **args):\n",
    "    \"\"\" The initializator for the TSP (We just shuffle the list) \"\"\"\n",
    "    lst = [i for i in range(genome.getListSize())]\n",
    "    random.shuffle(lst)\n",
    "    genome.setInternalList(lst)"
   ]
  },
  {
   "cell_type": "code",
   "execution_count": 6,
   "metadata": {},
   "outputs": [],
   "source": [
    "def current_best(ga_engine):\n",
    "    # Here you have access to the GA Engine\n",
    "    best = ga.bestIndividual()\n",
    "    for i in range(0,len(best)):\n",
    "        print(chr(best[i]))\n",
    "    return False"
   ]
  },
  {
   "cell_type": "code",
   "execution_count": 12,
   "metadata": {
    "scrolled": false
   },
   "outputs": [
    {
     "name": "stdout",
     "output_type": "stream",
     "text": [
      "Gen. 0 (0.00%): Max/Min/Avg Fitness(Raw) [8076.43(8699.12)/5677.08(5189.84)/6730.36(6730.36)]\n",
      "Gen. 10 (2.00%): Max/Min/Avg Fitness(Raw) [7411.86(7622.70)/4542.61(4263.73)/6176.55(6176.55)]\n",
      "Gen. 20 (4.00%): Max/Min/Avg Fitness(Raw) [7433.20(8050.15)/4690.09(3940.98)/6194.33(6194.33)]\n",
      "Gen. 30 (6.00%): Max/Min/Avg Fitness(Raw) [7240.31(8107.20)/4815.81(3940.98)/6033.59(6033.59)]\n",
      "Gen. 40 (8.00%): Max/Min/Avg Fitness(Raw) [7082.65(7669.54)/4592.26(3940.98)/5902.21(5902.21)]\n",
      "Gen. 50 (10.00%): Max/Min/Avg Fitness(Raw) [7369.74(7308.78)/3826.06(3940.98)/6141.45(6141.45)]\n",
      "Gen. 60 (12.00%): Max/Min/Avg Fitness(Raw) [7393.57(7520.74)/4148.68(3940.98)/6161.31(6161.31)]\n",
      "Gen. 70 (14.00%): Max/Min/Avg Fitness(Raw) [7258.11(7624.23)/4430.63(3940.98)/6048.42(6048.42)]\n",
      "Gen. 80 (16.00%): Max/Min/Avg Fitness(Raw) [7202.92(7322.92)/4072.78(3879.88)/6002.43(6002.43)]\n",
      "Gen. 90 (18.00%): Max/Min/Avg Fitness(Raw) [7298.80(7562.00)/3992.17(3539.93)/6082.33(6082.33)]\n",
      "Gen. 100 (20.00%): Max/Min/Avg Fitness(Raw) [7040.45(7441.99)/4133.23(3539.93)/5867.04(5867.04)]\n",
      "Gen. 110 (22.00%): Max/Min/Avg Fitness(Raw) [7050.29(7670.26)/4346.50(3539.93)/5875.24(5875.24)]\n",
      "Gen. 120 (24.00%): Max/Min/Avg Fitness(Raw) [7352.36(7658.56)/4057.13(3539.93)/6126.96(6126.96)]\n",
      "Gen. 130 (26.00%): Max/Min/Avg Fitness(Raw) [7257.99(7435.54)/3860.98(3539.93)/6048.33(6048.33)]\n",
      "Gen. 140 (28.00%): Max/Min/Avg Fitness(Raw) [7359.23(7443.90)/3707.35(3539.93)/6132.69(6132.69)]\n",
      "Gen. 150 (30.00%): Max/Min/Avg Fitness(Raw) [7259.14(7933.29)/4437.84(3539.93)/6049.29(6049.29)]\n",
      "Gen. 160 (32.00%): Max/Min/Avg Fitness(Raw) [7219.31(7529.94)/4048.02(3539.93)/6016.09(6016.09)]\n",
      "Gen. 170 (34.00%): Max/Min/Avg Fitness(Raw) [7194.34(7425.83)/3937.26(3539.93)/5995.28(5995.28)]\n",
      "Gen. 180 (36.00%): Max/Min/Avg Fitness(Raw) [7287.87(7795.69)/4286.79(3539.93)/6073.23(6073.23)]\n",
      "Gen. 190 (38.00%): Max/Min/Avg Fitness(Raw) [7483.58(7737.62)/3996.20(3539.93)/6236.31(6236.31)]\n",
      "Gen. 200 (40.00%): Max/Min/Avg Fitness(Raw) [7290.51(7827.74)/4308.04(3526.62)/6075.42(6075.42)]\n",
      "Gen. 210 (42.00%): Max/Min/Avg Fitness(Raw) [7220.84(7820.17)/4354.65(3526.62)/6017.37(6017.37)]\n",
      "Gen. 220 (44.00%): Max/Min/Avg Fitness(Raw) [7368.40(7532.48)/3834.67(3526.62)/6140.33(6140.33)]\n",
      "Gen. 230 (46.00%): Max/Min/Avg Fitness(Raw) [7448.98(7777.60)/4087.71(3526.62)/6207.48(6207.48)]\n",
      "Gen. 240 (48.00%): Max/Min/Avg Fitness(Raw) [7189.25(7599.77)/4155.50(3526.62)/5991.04(5991.04)]\n",
      "Gen. 250 (50.00%): Max/Min/Avg Fitness(Raw) [7349.06(7608.70)/3980.94(3526.62)/6124.22(6124.22)]\n",
      "Gen. 260 (52.00%): Max/Min/Avg Fitness(Raw) [7216.69(7442.63)/3919.96(3526.62)/6013.91(6013.91)]\n",
      "Gen. 270 (54.00%): Max/Min/Avg Fitness(Raw) [7336.23(7757.69)/4189.73(3526.62)/6113.53(6113.53)]\n",
      "Gen. 280 (56.00%): Max/Min/Avg Fitness(Raw) [7102.44(7519.56)/4149.90(3526.62)/5918.70(5918.70)]\n",
      "Gen. 290 (58.00%): Max/Min/Avg Fitness(Raw) [7369.32(7723.45)/4111.74(3526.62)/6141.10(6141.10)]\n",
      "Gen. 300 (60.00%): Max/Min/Avg Fitness(Raw) [7370.79(7941.47)/4356.31(3526.62)/6142.33(6142.33)]\n",
      "Gen. 310 (62.00%): Max/Min/Avg Fitness(Raw) [7121.03(7493.30)/4101.48(3526.62)/5934.19(5934.19)]\n",
      "Gen. 320 (64.00%): Max/Min/Avg Fitness(Raw) [7074.30(7545.39)/4202.83(3526.62)/5895.25(5895.25)]\n",
      "Gen. 330 (66.00%): Max/Min/Avg Fitness(Raw) [7250.86(7408.67)/3817.20(3526.62)/6042.38(6042.38)]\n",
      "Gen. 340 (68.00%): Max/Min/Avg Fitness(Raw) [7013.75(7535.50)/4242.00(3526.62)/5844.79(5844.79)]\n",
      "Gen. 350 (70.00%): Max/Min/Avg Fitness(Raw) [7090.71(7391.89)/4010.44(3526.62)/5908.92(5908.92)]\n",
      "Gen. 360 (72.00%): Max/Min/Avg Fitness(Raw) [7182.14(7731.91)/4271.43(3484.36)/5985.11(5985.11)]\n",
      "Gen. 370 (74.00%): Max/Min/Avg Fitness(Raw) [7379.60(7826.94)/4195.21(3484.36)/6149.67(6149.67)]\n",
      "Gen. 380 (76.00%): Max/Min/Avg Fitness(Raw) [7266.74(8031.53)/4479.58(3484.36)/6055.61(6055.61)]\n",
      "Gen. 390 (78.00%): Max/Min/Avg Fitness(Raw) [6870.66(7029.09)/3683.64(3401.13)/5725.55(5725.55)]\n",
      "Gen. 400 (80.00%): Max/Min/Avg Fitness(Raw) [7306.84(7646.51)/3987.34(3401.13)/6089.03(6089.03)]\n",
      "Gen. 410 (82.00%): Max/Min/Avg Fitness(Raw) [7255.14(7679.69)/4088.42(3401.13)/6045.95(6045.95)]\n",
      "Gen. 420 (84.00%): Max/Min/Avg Fitness(Raw) [7229.94(7923.32)/4359.48(3401.13)/6024.95(6024.95)]\n",
      "Gen. 430 (86.00%): Max/Min/Avg Fitness(Raw) [7165.65(7677.45)/4161.83(3386.36)/5971.37(5971.37)]\n",
      "Gen. 440 (88.00%): Max/Min/Avg Fitness(Raw) [7316.52(7629.44)/3939.92(3386.36)/6097.10(6097.10)]\n",
      "Gen. 450 (90.00%): Max/Min/Avg Fitness(Raw) [7234.58(7905.05)/4330.64(3386.36)/6028.82(6028.82)]\n",
      "Gen. 460 (92.00%): Max/Min/Avg Fitness(Raw) [7080.61(7490.18)/4034.11(3386.36)/5900.51(5900.51)]\n",
      "Gen. 470 (94.00%): Max/Min/Avg Fitness(Raw) [7172.52(7488.10)/3927.45(3386.36)/5977.10(5977.10)]\n",
      "Gen. 480 (96.00%): Max/Min/Avg Fitness(Raw) [7401.42(7712.02)/3945.84(3386.36)/6167.85(6167.85)]\n",
      "Gen. 490 (98.00%): Max/Min/Avg Fitness(Raw) [7152.36(7897.37)/4351.95(3346.76)/5960.30(5960.30)]\n",
      "Gen. 500 (100.00%): Max/Min/Avg Fitness(Raw) [7024.41(8021.74)/4499.97(3346.76)/5853.67(5853.67)]\n",
      "Total time elapsed: 5.951 seconds.\n"
     ]
    }
   ],
   "source": [
    "global cm, LAT, LON, WIDTH, HEIGHT\n",
    "\n",
    "cm     = lat_long_cartesian_matrix(coords)\n",
    "genome = G1DList.G1DList(len(coords))\n",
    "\n",
    "genome.evaluator.set(lambda chromosome: tour_length(cm, chromosome))\n",
    "genome.crossover.set(Crossovers.G1DListCrossoverEdge)\n",
    "genome.initializator.set(G1DListTSPInitializator)\n",
    "genome.mutator.set(Mutators.G1DListMutatorSwap)\n",
    "\n",
    "# 3662.69\n",
    "ga = GSimpleGA.GSimpleGA(genome)\n",
    "ga.setGenerations(500) # default 100\n",
    "ga.setMinimax(Consts.minimaxType[\"minimize\"])\n",
    "ga.setCrossoverRate(0.9) #default 0.9\n",
    "ga.setMutationRate(0.1) # default 0.02\n",
    "ga.setPopulationSize(80) # default 80\n",
    "ga.selector.set(Selectors.GTournamentSelector) # default Selectors.GRankSelector\n",
    "ga.setElitism(True)\n",
    "\n",
    "\n",
    "# Permet de ploter les jolis graphes via la commande python pyevolve_graph.py -0 -i run1\n",
    "dbadapter = DBAdapters.DBSQLite(identify=\"run1\")\n",
    "ga.setDBAdapter(dbadapter)\n",
    "\n",
    "# This is to make a video\n",
    "\n",
    "ga.evolve(freq_stats=10)\n",
    "\n",
    "best = ga.bestIndividual()"
   ]
  },
  {
   "cell_type": "code",
   "execution_count": 15,
   "metadata": {},
   "outputs": [
    {
     "name": "stdout",
     "output_type": "stream",
     "text": [
      "- GenomeBase\n",
      "\tScore:\t\t\t 3346.761974\n",
      "\tFitness:\t\t 4499.965245\n",
      "\n",
      "\tParams:\t\t {}\n",
      "\n",
      "\tSlot [Evaluator] (Count: 1)\n",
      "\t\tName: <lambda> - Weight: 0.50\n",
      "\tSlot [Initializator] (Count: 1)\n",
      "\t\tName: G1DListTSPInitializator - Weight: 0.50\n",
      "\t\tDoc:  The initializator for the TSP (We just shuffle the list) \n",
      "\tSlot [Mutator] (Count: 1)\n",
      "\t\tName: G1DListMutatorSwap - Weight: 0.50\n",
      "\t\tDoc:  The mutator of G1DList, Swap Mutator\n",
      "\n",
      "   .. note:: this mutator is :term:`Data Type Independent`\n",
      "\n",
      "   \n",
      "\tSlot [Crossover] (Count: 1)\n",
      "\t\tName: G1DListCrossoverEdge - Weight: 0.50\n",
      "\t\tDoc:  THe Edge Recombination crossover for G1DList (widely used for TSP problem)\n",
      "\n",
      "   See more information in the `Edge Recombination Operator <http://en.wikipedia.org/wiki/Edge_recombination_operator>`_\n",
      "   Wikipedia entry.\n",
      "   \n",
      "\n",
      "- G1DList\n",
      "\tList size:\t 14\n",
      "\tList:\t\t [0, 1, 13, 2, 3, 4, 5, 11, 6, 12, 7, 10, 8, 9]\n",
      "\n",
      "\n"
     ]
    }
   ],
   "source": [
    "print(best)"
   ]
  },
  {
   "cell_type": "markdown",
   "metadata": {},
   "source": [
    "Lien vers Overleaf : https://www.overleaf.com/16932456chzcxjsfykqs"
   ]
  }
 ],
 "metadata": {
  "kernelspec": {
   "display_name": "Python 3",
   "language": "python",
   "name": "python3"
  },
  "language_info": {
   "codemirror_mode": {
    "name": "ipython",
    "version": 3
   },
   "file_extension": ".py",
   "mimetype": "text/x-python",
   "name": "python",
   "nbconvert_exporter": "python",
   "pygments_lexer": "ipython3",
   "version": "3.6.4"
  }
 },
 "nbformat": 4,
 "nbformat_minor": 1
}
