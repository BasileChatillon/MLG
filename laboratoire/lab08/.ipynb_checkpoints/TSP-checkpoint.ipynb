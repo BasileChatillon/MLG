{
 "cells": [
  {
   "cell_type": "code",
   "execution_count": 1,
   "metadata": {},
   "outputs": [],
   "source": [
    "import sys, random, os\n",
    "\n",
    "from pyevolve import G1DList, GAllele\n",
    "from pyevolve import GSimpleGA\n",
    "from pyevolve import Mutators\n",
    "from pyevolve import Crossovers\n",
    "from pyevolve import Consts\n",
    "from pyevolve import DBAdapters\n",
    "from pyevolve import Selectors\n",
    "from geopy.distance import geodesic\n",
    "from math import sqrt\n",
    "\n",
    "random.seed(1024)\n",
    "\n",
    "PIL_SUPPORT = None\n",
    "\n",
    "try:\n",
    "    from PIL import Image, ImageDraw, ImageFont\n",
    "    PIL_SUPPORT = True\n",
    "except ImportError:\n",
    "    PIL_SUPPORT = False\n",
    "\n",
    "R = 6371000; # metres\n",
    "LAT = [16.47, 16.47, 20.09, 22.39, 25.23, 22.00, 20.47, 17.20, 16.30, 14.05, 16.53, 21.52, 19.41, 20.09]\n",
    "LON = [96.10, 94.44, 92.54, 93.37, 97.24, 96.05, 97.02, 96.29, 97.38, 98.12, 97.38, 95.59, 97.13, 94.55]\n",
    "CITIES = len(LAT)\n",
    "WIDTH   = 1024\n",
    "HEIGHT  = 768\n",
    "LAST_SCORE = -1\n",
    "\n",
    "cm     = []\n",
    "coords = list(zip(LAT, LON))"
   ]
  },
  {
   "cell_type": "code",
   "execution_count": 2,
   "metadata": {},
   "outputs": [],
   "source": [
    "def cartesian_matrix(coords):\n",
    "    \"\"\" A distance matrix \"\"\"\n",
    "    matrix={}\n",
    "    for i, (x1, y1) in enumerate(coords):\n",
    "        for j, (x2, y2) in enumerate(coords):\n",
    "            dx, dy = x1 - x2, y1 - y2\n",
    "            dist = sqrt(dx * dx + dy * dy)\n",
    "            matrix[i, j] = dist\n",
    "    return matrix"
   ]
  },
  {
   "cell_type": "code",
   "execution_count": 3,
   "metadata": {},
   "outputs": [],
   "source": [
    "def lat_long_cartesian_matrix(coords):\n",
    "    \"\"\" A distance matrix \"\"\"\n",
    "    matrix={}\n",
    "    for i, town1 in enumerate(coords):\n",
    "        for j, town2 in enumerate(coords):\n",
    "            # dlat, dlong = math.radians(lat2-lat1), math.radians(long1-long2)\n",
    "            # latRad1 = math.radians(lat1)\n",
    "            # latRad2 = math.radians(lat2)\n",
    "            # a = math.sin(dlat/2) ** 2 + math.cos(latRad1) * math.cos(latRad2) * math.sin(dlong/2) ** 2;\n",
    "            # c = 2 * math.atan2(math.sqrt(a), math.sqrt(1-a));\n",
    "            # d = R * c;\n",
    "            matrix[i, j] = geodesic(town1, town2).km\n",
    "    return matrix"
   ]
  },
  {
   "cell_type": "code",
   "execution_count": 4,
   "metadata": {},
   "outputs": [],
   "source": [
    "def fitness(matrix, chromosome):\n",
    "    \"\"\" Returns the total length of the tour \"\"\"\n",
    "    total = 0\n",
    "    t = chromosome.getInternalList()\n",
    "    chromosomeSize = len(t)\n",
    "    for i in range(chromosomeSize):\n",
    "        j = (i + 1) % chromosomeSize\n",
    "        total += matrix[t[i], t[j]]\n",
    "    return total"
   ]
  },
  {
   "cell_type": "code",
   "execution_count": 5,
   "metadata": {},
   "outputs": [],
   "source": [
    "def G1DListTSPInitializator(genome, **args):\n",
    "    \"\"\" The initializator for the TSP (We just shuffle the list) \"\"\"\n",
    "    lst = [i for i in range(genome.getListSize())]\n",
    "    random.shuffle(lst)\n",
    "    genome.setInternalList(lst)"
   ]
  },
  {
   "cell_type": "code",
   "execution_count": 6,
   "metadata": {},
   "outputs": [],
   "source": [
    "def current_best(ga_engine):\n",
    "    # Here you have access to the GA Engine\n",
    "    best = ga.bestIndividual()\n",
    "    for i in range(0, len(best)):\n",
    "        print(chr(best[i]))\n",
    "    return False"
   ]
  },
  {
   "cell_type": "code",
   "execution_count": 7,
   "metadata": {
    "scrolled": false
   },
   "outputs": [
    {
     "name": "stdout",
     "output_type": "stream",
     "text": [
      "Gen. 0 (0.00%): Max/Min/Avg Fitness(Raw) [8165.07(8460.03)/5506.63(5225.38)/6804.22(6804.22)]\n",
      "Gen. 10 (2.00%): Max/Min/Avg Fitness(Raw) [7286.87(8057.86)/4794.73(3983.64)/6072.40(6072.40)]\n",
      "Gen. 20 (4.00%): Max/Min/Avg Fitness(Raw) [6957.88(7755.58)/4684.69(3918.71)/5798.23(5798.23)]\n",
      "Gen. 30 (6.00%): Max/Min/Avg Fitness(Raw) [7283.68(7538.77)/4292.23(3918.71)/6069.73(6069.73)]\n",
      "Gen. 40 (8.00%): Max/Min/Avg Fitness(Raw) [6924.06(7375.04)/4403.16(3869.00)/5770.05(5770.05)]\n",
      "Gen. 50 (10.00%): Max/Min/Avg Fitness(Raw) [7088.10(8103.59)/4746.45(3749.04)/5906.75(5906.75)]\n",
      "Gen. 60 (12.00%): Max/Min/Avg Fitness(Raw) [6927.21(7345.06)/4261.82(3715.02)/5772.68(5772.68)]\n",
      "Gen. 70 (14.00%): Max/Min/Avg Fitness(Raw) [7025.59(8079.41)/4728.52(3715.02)/5854.66(5854.66)]\n",
      "Gen. 80 (16.00%): Max/Min/Avg Fitness(Raw) [6854.56(7813.85)/4567.15(3605.72)/5712.13(5712.13)]\n",
      "Gen. 90 (18.00%): Max/Min/Avg Fitness(Raw) [6837.85(7417.32)/4311.05(3605.72)/5698.21(5698.21)]\n",
      "Gen. 100 (20.00%): Max/Min/Avg Fitness(Raw) [6974.36(7701.82)/4454.97(3605.72)/5811.97(5811.97)]\n",
      "Gen. 110 (22.00%): Max/Min/Avg Fitness(Raw) [7077.87(7828.91)/4497.51(3605.72)/5898.23(5898.23)]\n",
      "Gen. 120 (24.00%): Max/Min/Avg Fitness(Raw) [6914.43(7309.25)/4155.96(3605.72)/5762.03(5762.03)]\n",
      "Gen. 130 (26.00%): Max/Min/Avg Fitness(Raw) [7297.88(7756.37)/4283.50(3605.72)/6081.57(6081.57)]\n",
      "Gen. 140 (28.00%): Max/Min/Avg Fitness(Raw) [6986.08(7585.41)/4358.76(3605.72)/5821.73(5821.73)]\n",
      "Gen. 150 (30.00%): Max/Min/Avg Fitness(Raw) [7056.33(7883.30)/4544.79(3605.72)/5880.28(5880.28)]\n",
      "Gen. 160 (32.00%): Max/Min/Avg Fitness(Raw) [6988.69(7939.24)/4602.49(3605.72)/5823.91(5823.91)]\n",
      "Gen. 170 (34.00%): Max/Min/Avg Fitness(Raw) [6853.92(7268.07)/4075.29(3482.04)/5711.60(5711.60)]\n",
      "Gen. 180 (36.00%): Max/Min/Avg Fitness(Raw) [6755.92(7327.98)/4205.65(3482.04)/5629.93(5629.93)]\n",
      "Gen. 190 (38.00%): Max/Min/Avg Fitness(Raw) [6900.89(7416.74)/4184.51(3482.04)/5750.75(5750.75)]\n",
      "Gen. 200 (40.00%): Max/Min/Avg Fitness(Raw) [7182.66(7968.29)/4474.01(3482.04)/5985.55(5985.55)]\n",
      "Gen. 210 (42.00%): Max/Min/Avg Fitness(Raw) [6764.15(7403.81)/4209.97(3400.38)/5636.79(5636.79)]\n",
      "Gen. 220 (44.00%): Max/Min/Avg Fitness(Raw) [7025.53(7676.10)/4276.94(3400.38)/5854.61(5854.61)]\n",
      "Gen. 230 (46.00%): Max/Min/Avg Fitness(Raw) [7117.17(7236.88)/3632.36(3400.38)/5930.98(5930.98)]\n",
      "Gen. 240 (48.00%): Max/Min/Avg Fitness(Raw) [6891.88(7458.98)/4174.76(3400.38)/5743.23(5743.23)]\n",
      "Gen. 250 (50.00%): Max/Min/Avg Fitness(Raw) [6869.17(7533.37)/4253.62(3400.38)/5724.31(5724.31)]\n",
      "Gen. 260 (52.00%): Max/Min/Avg Fitness(Raw) [6875.47(7122.17)/3813.00(3400.38)/5729.56(5729.56)]\n",
      "Gen. 270 (54.00%): Max/Min/Avg Fitness(Raw) [7298.50(7902.52)/4290.17(3400.38)/6082.08(6082.08)]\n",
      "Gen. 280 (56.00%): Max/Min/Avg Fitness(Raw) [7243.92(7742.43)/4170.79(3400.38)/6036.60(6036.60)]\n",
      "Gen. 290 (58.00%): Max/Min/Avg Fitness(Raw) [6813.80(6796.74)/3365.64(3400.38)/5678.17(5678.17)]\n",
      "Gen. 300 (60.00%): Max/Min/Avg Fitness(Raw) [6926.85(7250.26)/3919.45(3400.38)/5772.37(5772.37)]\n",
      "Gen. 310 (62.00%): Max/Min/Avg Fitness(Raw) [6947.05(7340.19)/4005.90(3400.38)/5789.21(5789.21)]\n",
      "Gen. 320 (64.00%): Max/Min/Avg Fitness(Raw) [6861.95(7230.96)/3925.28(3346.76)/5718.29(5718.29)]\n",
      "Gen. 330 (66.00%): Max/Min/Avg Fitness(Raw) [7067.04(7530.75)/4064.97(3346.76)/5889.20(5889.20)]\n",
      "Gen. 340 (68.00%): Max/Min/Avg Fitness(Raw) [6902.98(7169.04)/3798.60(3346.76)/5752.49(5752.49)]\n",
      "Gen. 350 (70.00%): Max/Min/Avg Fitness(Raw) [6817.24(7618.62)/4312.21(3346.76)/5681.03(5681.03)]\n",
      "Gen. 360 (72.00%): Max/Min/Avg Fitness(Raw) [6737.37(7237.10)/4045.16(3346.76)/5614.48(5614.48)]\n",
      "Gen. 370 (74.00%): Max/Min/Avg Fitness(Raw) [6993.07(7718.45)/4298.44(3346.76)/5827.56(5827.56)]\n",
      "Gen. 380 (76.00%): Max/Min/Avg Fitness(Raw) [7089.68(7718.10)/4236.02(3346.76)/5908.06(5908.06)]\n",
      "Gen. 390 (78.00%): Max/Min/Avg Fitness(Raw) [6792.76(7357.68)/4117.01(3346.76)/5660.63(5660.63)]\n",
      "Gen. 400 (80.00%): Max/Min/Avg Fitness(Raw) [6925.36(8416.26)/4713.23(3346.76)/5771.13(5771.13)]\n",
      "Gen. 410 (82.00%): Max/Min/Avg Fitness(Raw) [6987.36(7757.47)/4332.37(3346.76)/5822.80(5822.80)]\n",
      "Gen. 420 (84.00%): Max/Min/Avg Fitness(Raw) [6974.50(7365.43)/3967.21(3346.76)/5812.08(5812.08)]\n",
      "Gen. 430 (86.00%): Max/Min/Avg Fitness(Raw) [7177.41(7833.38)/4279.76(3346.76)/5981.17(5981.17)]\n",
      "Gen. 440 (88.00%): Max/Min/Avg Fitness(Raw) [7066.05(7222.03)/3644.01(3346.76)/5888.38(5888.38)]\n",
      "Gen. 450 (90.00%): Max/Min/Avg Fitness(Raw) [6945.59(7678.73)/4293.36(3346.76)/5787.99(5787.99)]\n",
      "Gen. 460 (92.00%): Max/Min/Avg Fitness(Raw) [6913.52(7218.39)/3851.94(3346.76)/5761.27(5761.27)]\n",
      "Gen. 470 (94.00%): Max/Min/Avg Fitness(Raw) [6943.04(7282.14)/3899.54(3346.76)/5785.87(5785.87)]\n",
      "Gen. 480 (96.00%): Max/Min/Avg Fitness(Raw) [6921.68(7537.60)/4189.55(3346.76)/5768.06(5768.06)]\n",
      "Gen. 490 (98.00%): Max/Min/Avg Fitness(Raw) [6870.80(7442.60)/4139.02(3346.76)/5725.67(5725.67)]\n",
      "Gen. 500 (100.00%): Max/Min/Avg Fitness(Raw) [6833.44(7409.23)/4135.13(3346.76)/5694.54(5694.54)]\n",
      "Total time elapsed: 6.350 seconds.\n"
     ]
    }
   ],
   "source": [
    "global cm, LAT, LON, WIDTH, HEIGHT\n",
    "\n",
    "cm     = lat_long_cartesian_matrix(coords)\n",
    "genome = G1DList.G1DList(len(coords))\n",
    "\n",
    "genome.evaluator.set(lambda chromosome: fitness(cm, chromosome))\n",
    "genome.crossover.set(Crossovers.G1DListCrossoverEdge)\n",
    "genome.initializator.set(G1DListTSPInitializator)\n",
    "genome.mutator.set(Mutators.G1DListMutatorSwap)\n",
    "\n",
    "# 3662.69\n",
    "ga = GSimpleGA.GSimpleGA(genome)\n",
    "ga.setGenerations(500) # default 100\n",
    "ga.setMinimax(Consts.minimaxType[\"minimize\"])\n",
    "ga.setCrossoverRate(0.9) #default 0.9\n",
    "ga.setMutationRate(0.1) # default 0.02\n",
    "ga.setPopulationSize(80) # default 80\n",
    "ga.selector.set(Selectors.GTournamentSelector) # default Selectors.GRankSelector\n",
    "ga.setElitism(True)\n",
    "\n",
    "# Allows plotting nice graphs by running `python pyevolve_graph.py -0 -m -i run1`\n",
    "dbadapter = DBAdapters.DBSQLite(identify=\"run1\")\n",
    "ga.setDBAdapter(dbadapter)\n",
    "\n",
    "# This is to make a video\n",
    "ga.evolve(freq_stats=10)\n",
    "\n",
    "best = ga.bestIndividual()"
   ]
  },
  {
   "cell_type": "code",
   "execution_count": 8,
   "metadata": {},
   "outputs": [
    {
     "name": "stdout",
     "output_type": "stream",
     "text": [
      "- GenomeBase\n",
      "\tScore:\t\t\t 3346.761974\n",
      "\tFitness:\t\t 4135.130822\n",
      "\n",
      "\tParams:\t\t {}\n",
      "\n",
      "\tSlot [Evaluator] (Count: 1)\n",
      "\t\tName: <lambda> - Weight: 0.50\n",
      "\tSlot [Initializator] (Count: 1)\n",
      "\t\tName: G1DListTSPInitializator - Weight: 0.50\n",
      "\t\tDoc:  The initializator for the TSP (We just shuffle the list) \n",
      "\tSlot [Mutator] (Count: 1)\n",
      "\t\tName: G1DListMutatorSwap - Weight: 0.50\n",
      "\t\tDoc:  The mutator of G1DList, Swap Mutator\n",
      "\n",
      "   .. note:: this mutator is :term:`Data Type Independent`\n",
      "\n",
      "   \n",
      "\tSlot [Crossover] (Count: 1)\n",
      "\t\tName: G1DListCrossoverEdge - Weight: 0.50\n",
      "\t\tDoc:  THe Edge Recombination crossover for G1DList (widely used for TSP problem)\n",
      "\n",
      "   See more information in the `Edge Recombination Operator <http://en.wikipedia.org/wiki/Edge_recombination_operator>`_\n",
      "   Wikipedia entry.\n",
      "   \n",
      "\n",
      "- G1DList\n",
      "\tList size:\t 14\n",
      "\tList:\t\t [5, 4, 3, 2, 13, 1, 0, 9, 8, 10, 7, 12, 6, 11]\n",
      "\n",
      "\n"
     ]
    }
   ],
   "source": [
    "print(best)"
   ]
  }
 ],
 "metadata": {
  "kernelspec": {
   "display_name": "Python 3",
   "language": "python",
   "name": "python3"
  },
  "language_info": {
   "codemirror_mode": {
    "name": "ipython",
    "version": 3
   },
   "file_extension": ".py",
   "mimetype": "text/x-python",
   "name": "python",
   "nbconvert_exporter": "python",
   "pygments_lexer": "ipython3",
   "version": "3.6.4"
  }
 },
 "nbformat": 4,
 "nbformat_minor": 1
}
