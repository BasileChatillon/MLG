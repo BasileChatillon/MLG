{
 "cells": [
  {
   "cell_type": "code",
   "execution_count": 1,
   "metadata": {},
   "outputs": [],
   "source": [
    "from pyevolve import G1DList, GAllele\n",
    "from pyevolve import GSimpleGA\n",
    "from pyevolve import Mutators\n",
    "from pyevolve import Crossovers\n",
    "from pyevolve import Consts\n",
    "from pyevolve import DBAdapters\n",
    "from pyevolve import Selectors\n",
    "from geopy.distance import geodesic\n",
    "\n",
    "import math\n",
    "\n",
    "import sys, random, os\n",
    "random.seed(1024)\n",
    "from math import sqrt\n",
    "\n",
    "PIL_SUPPORT = None\n",
    "\n",
    "try:\n",
    "    from PIL import Image, ImageDraw, ImageFont\n",
    "    PIL_SUPPORT = True\n",
    "except ImportError:\n",
    "    PIL_SUPPORT = False\n",
    "\n",
    "\n",
    "cm     = []\n",
    "R = 6371000; # metres\n",
    "LAT = [16.47, 16.47, 20.09, 22.39, 25.23, 22.00, 20.47, 17.20, 16.30, 14.05, 16.53, 21.52, 19.41, 20.09]\n",
    "LON = [96.10, 94.44, 92.54, 93.37, 97.24, 96.05, 97.02, 96.29, 97.38, 98.12, 97.38, 95.59, 97.13, 94.55]\n",
    "CITIES = len(LAT)\n",
    "coords = list(zip(LAT, LON))\n",
    "WIDTH   = 1024\n",
    "HEIGHT  = 768\n",
    "LAST_SCORE = -1"
   ]
  },
  {
   "cell_type": "code",
   "execution_count": 2,
   "metadata": {},
   "outputs": [],
   "source": [
    "def cartesian_matrix(coords):\n",
    "    \"\"\" A distance matrix \"\"\"\n",
    "    matrix={}\n",
    "    for i,(x1,y1) in enumerate(coords):\n",
    "        for j,(x2,y2) in enumerate(coords):\n",
    "            dx, dy = x1-x2, y1-y2\n",
    "            dist=sqrt(dx*dx + dy*dy)\n",
    "            matrix[i,j] = dist\n",
    "    return matrix"
   ]
  },
  {
   "cell_type": "code",
   "execution_count": 3,
   "metadata": {},
   "outputs": [],
   "source": [
    "def lat_long_cartesian_matrix(coords):\n",
    "    \"\"\" A distance matrix \"\"\"\n",
    "    \n",
    "    matrix={}\n",
    "    for i, town1 in enumerate(coords):\n",
    "        for j, town2 in enumerate(coords):\n",
    "            #dlat, dlong = math.radians(lat2-lat1), math.radians(long1-long2)\n",
    "            #latRad1 = math.radians(lat1)\n",
    "            #latRad2 = math.radians(lat2)\n",
    "            #a = math.sin(dlat/2) ** 2 + math.cos(latRad1) * math.cos(latRad2) * math.sin(dlong/2) ** 2;\n",
    "            #c = 2 * math.atan2(math.sqrt(a), math.sqrt(1-a));\n",
    "            #d = R * c;\n",
    "            matrix[i,j] = geodesic(town1, town2).km\n",
    "    return matrix"
   ]
  },
  {
   "cell_type": "code",
   "execution_count": 4,
   "metadata": {},
   "outputs": [],
   "source": [
    "def tour_length(matrix, tour):\n",
    "    \"\"\" Returns the total length of the tour \"\"\"\n",
    "    total = 0\n",
    "    t = tour.getInternalList()\n",
    "    for i in range(CITIES):\n",
    "        j      = (i+1)%CITIES\n",
    "        total += matrix[t[i], t[j]]\n",
    "    return total"
   ]
  },
  {
   "cell_type": "code",
   "execution_count": 5,
   "metadata": {},
   "outputs": [],
   "source": [
    "def G1DListTSPInitializator(genome, **args):\n",
    "    \"\"\" The initializator for the TSP (We just shuffle the list) \"\"\"\n",
    "    lst = [i for i in range(genome.getListSize())]\n",
    "    random.shuffle(lst)\n",
    "    genome.setInternalList(lst)"
   ]
  },
  {
   "cell_type": "code",
   "execution_count": 6,
   "metadata": {},
   "outputs": [],
   "source": [
    "def current_best(ga_engine):\n",
    "    # Here you have access to the GA Engine\n",
    "    best = ga.bestIndividual()\n",
    "    for i in range(0,len(best)):\n",
    "        print(chr(best[i]))\n",
    "    return False"
   ]
  },
  {
   "cell_type": "code",
   "execution_count": 9,
   "metadata": {
    "scrolled": false
   },
   "outputs": [
    {
     "name": "stdout",
     "output_type": "stream",
     "text": [
      "Gen. 0 (0.00%): Max/Min/Avg Fitness(Raw) [8180.59(8354.35)/5359.81(5174.08)/6817.16(6817.16)]\n",
      "Gen. 10 (2.00%): Max/Min/Avg Fitness(Raw) [7286.65(7627.02)/4639.13(4237.48)/6072.21(6072.21)]\n",
      "Gen. 20 (4.00%): Max/Min/Avg Fitness(Raw) [7356.27(7861.55)/4744.25(4173.06)/6130.23(6130.23)]\n",
      "Gen. 30 (6.00%): Max/Min/Avg Fitness(Raw) [7164.38(7390.69)/4391.98(4092.84)/5970.32(5970.32)]\n",
      "Gen. 40 (8.00%): Max/Min/Avg Fitness(Raw) [7243.22(7635.83)/4487.39(3983.73)/6036.01(6036.01)]\n",
      "Gen. 50 (10.00%): Max/Min/Avg Fitness(Raw) [7192.80(7536.30)/4372.05(3907.31)/5994.00(5994.00)]\n",
      "Gen. 60 (12.00%): Max/Min/Avg Fitness(Raw) [7139.09(7572.78)/4452.77(3907.31)/5949.24(5949.24)]\n",
      "Gen. 70 (14.00%): Max/Min/Avg Fitness(Raw) [7154.17(7379.71)/4234.12(3907.31)/5961.81(5961.81)]\n",
      "Gen. 80 (16.00%): Max/Min/Avg Fitness(Raw) [7359.87(7745.78)/4440.01(3907.31)/6133.22(6133.22)]\n",
      "Gen. 90 (18.00%): Max/Min/Avg Fitness(Raw) [7193.11(7938.79)/4703.88(3901.27)/5994.25(5994.25)]\n",
      "Gen. 100 (20.00%): Max/Min/Avg Fitness(Raw) [7434.62(7973.36)/4480.03(3734.18)/6195.52(6195.52)]\n",
      "Gen. 110 (22.00%): Max/Min/Avg Fitness(Raw) [7520.28(7965.60)/4398.15(3734.18)/6266.90(6266.90)]\n",
      "Gen. 120 (24.00%): Max/Min/Avg Fitness(Raw) [7411.97(7611.83)/4074.30(3734.18)/6176.64(6176.64)]\n",
      "Gen. 130 (26.00%): Max/Min/Avg Fitness(Raw) [7178.56(8293.46)/4818.51(3734.18)/5982.14(5982.14)]\n",
      "Gen. 140 (28.00%): Max/Min/Avg Fitness(Raw) [7324.57(7832.54)/4430.47(3734.18)/6103.81(6103.81)]\n",
      "Gen. 150 (30.00%): Max/Min/Avg Fitness(Raw) [7080.80(7764.90)/4529.19(3734.18)/5900.67(5900.67)]\n",
      "Gen. 160 (32.00%): Max/Min/Avg Fitness(Raw) [7242.85(7348.84)/3919.95(3734.18)/6035.71(6035.71)]\n",
      "Gen. 170 (34.00%): Max/Min/Avg Fitness(Raw) [7312.85(7674.43)/4184.92(3618.55)/6094.05(6094.05)]\n",
      "Gen. 180 (36.00%): Max/Min/Avg Fitness(Raw) [7033.09(7557.50)/4311.65(3618.55)/5860.91(5860.91)]\n",
      "Gen. 190 (38.00%): Max/Min/Avg Fitness(Raw) [7242.87(7317.69)/3759.62(3618.55)/6035.73(6035.73)]\n",
      "Gen. 200 (40.00%): Max/Min/Avg Fitness(Raw) [7064.54(7763.32)/4463.46(3618.55)/5887.12(5887.12)]\n",
      "Gen. 210 (42.00%): Max/Min/Avg Fitness(Raw) [7199.97(7289.01)/3783.04(3618.55)/5999.97(5999.97)]\n",
      "Gen. 220 (44.00%): Max/Min/Avg Fitness(Raw) [7151.54(7752.42)/4403.18(3618.55)/5959.62(5959.62)]\n",
      "Gen. 230 (46.00%): Max/Min/Avg Fitness(Raw) [7269.12(7591.49)/4131.14(3618.55)/6057.60(6057.60)]\n",
      "Gen. 240 (48.00%): Max/Min/Avg Fitness(Raw) [7273.21(7852.85)/4376.14(3570.48)/6061.01(6061.01)]\n",
      "Gen. 250 (50.00%): Max/Min/Avg Fitness(Raw) [7122.63(7515.97)/4159.10(3570.48)/5935.52(5935.52)]\n",
      "Gen. 260 (52.00%): Max/Min/Avg Fitness(Raw) [7392.97(8059.78)/4480.06(3570.48)/6160.81(6160.81)]\n",
      "Gen. 270 (54.00%): Max/Min/Avg Fitness(Raw) [7226.22(7987.53)/4519.90(3570.48)/6021.85(6021.85)]\n",
      "Gen. 280 (56.00%): Max/Min/Avg Fitness(Raw) [7161.37(7310.20)/3836.28(3570.48)/5967.81(5967.81)]\n",
      "Gen. 290 (58.00%): Max/Min/Avg Fitness(Raw) [7193.24(7380.99)/3872.87(3540.64)/5994.37(5994.37)]\n",
      "Gen. 300 (60.00%): Max/Min/Avg Fitness(Raw) [7290.60(7562.69)/4004.41(3540.64)/6075.50(6075.50)]\n",
      "Gen. 310 (62.00%): Max/Min/Avg Fitness(Raw) [7531.54(7844.89)/4087.12(3540.64)/6276.28(6276.28)]\n",
      "Gen. 320 (64.00%): Max/Min/Avg Fitness(Raw) [7278.79(7623.49)/4099.34(3540.64)/6065.66(6065.66)]\n",
      "Gen. 330 (66.00%): Max/Min/Avg Fitness(Raw) [7033.34(7095.10)/3656.78(3540.64)/5861.11(5861.11)]\n",
      "Gen. 340 (68.00%): Max/Min/Avg Fitness(Raw) [7264.31(7743.44)/4253.14(3540.64)/6053.59(6053.59)]\n",
      "Gen. 350 (70.00%): Max/Min/Avg Fitness(Raw) [7446.90(8267.20)/4601.15(3540.64)/6205.75(6205.75)]\n",
      "Gen. 360 (72.00%): Max/Min/Avg Fitness(Raw) [7215.44(7985.90)/4492.95(3519.18)/6012.87(6012.87)]\n",
      "Gen. 370 (74.00%): Max/Min/Avg Fitness(Raw) [7367.85(7578.00)/3902.13(3519.18)/6139.87(6139.87)]\n",
      "Gen. 380 (76.00%): Max/Min/Avg Fitness(Raw) [7171.60(7606.39)/4174.59(3519.18)/5976.33(5976.33)]\n",
      "Gen. 390 (78.00%): Max/Min/Avg Fitness(Raw) [7189.83(7748.98)/4305.78(3519.18)/5991.52(5991.52)]\n",
      "Gen. 400 (80.00%): Max/Min/Avg Fitness(Raw) [7032.84(7258.15)/3851.71(3465.56)/5860.70(5860.70)]\n",
      "Gen. 410 (82.00%): Max/Min/Avg Fitness(Raw) [7094.06(7432.98)/4010.54(3465.56)/5911.71(5911.71)]\n",
      "Gen. 420 (84.00%): Max/Min/Avg Fitness(Raw) [7277.55(7874.15)/4322.47(3465.56)/6064.63(6064.63)]\n",
      "Gen. 430 (86.00%): Max/Min/Avg Fitness(Raw) [7297.19(7663.18)/4070.56(3465.56)/6080.99(6080.99)]\n",
      "Gen. 440 (88.00%): Max/Min/Avg Fitness(Raw) [7080.53(7828.44)/4410.10(3465.56)/5900.44(5900.44)]\n",
      "Gen. 450 (90.00%): Max/Min/Avg Fitness(Raw) [7217.62(7766.59)/4264.34(3465.56)/6014.69(6014.69)]\n",
      "Gen. 460 (92.00%): Max/Min/Avg Fitness(Raw) [7212.77(7487.33)/3938.76(3465.56)/6010.64(6010.64)]\n",
      "Gen. 470 (94.00%): Max/Min/Avg Fitness(Raw) [7308.44(7532.65)/3873.60(3465.56)/6090.37(6090.37)]\n",
      "Gen. 480 (96.00%): Max/Min/Avg Fitness(Raw) [7184.35(7493.22)/3982.59(3465.56)/5986.96(5986.96)]\n",
      "Gen. 490 (98.00%): Max/Min/Avg Fitness(Raw) [7341.96(7799.48)/4187.48(3465.56)/6118.30(6118.30)]\n",
      "Gen. 500 (100.00%): Max/Min/Avg Fitness(Raw) [7070.64(7213.29)/3727.59(3465.56)/5892.20(5892.20)]\n",
      "Total time elapsed: 5.897 seconds.\n"
     ]
    }
   ],
   "source": [
    "global cm, LAT, LON, WIDTH, HEIGHT\n",
    "\n",
    "cm     = lat_long_cartesian_matrix(coords)\n",
    "genome = G1DList.G1DList(len(coords))\n",
    "\n",
    "genome.evaluator.set(lambda chromosome: tour_length(cm, chromosome))\n",
    "genome.crossover.set(Crossovers.G1DListCrossoverEdge)\n",
    "genome.initializator.set(G1DListTSPInitializator)\n",
    "genome.mutator.set(Mutators.G1DListMutatorSwap)\n",
    "\n",
    "# 3662.69\n",
    "ga = GSimpleGA.GSimpleGA(genome)\n",
    "ga.setGenerations(500) # default 100\n",
    "ga.setMinimax(Consts.minimaxType[\"minimize\"])\n",
    "ga.setCrossoverRate(0.9) #default 0.9\n",
    "ga.setMutationRate(0.1) # default 0.02\n",
    "ga.setPopulationSize(80) # default 80\n",
    "ga.selector.set(Selectors.GTournamentSelector) # default Selectors.GRankSelector\n",
    "ga.setElitisme(True)\n",
    "\n",
    "\n",
    "# Permet de ploter les jolis graphes via la commande python pyevolve_graph.py -0 -i run1\n",
    "dbadapter = DBAdapters.DBSQLite(identify=\"run1\")\n",
    "ga.setDBAdapter(dbadapter)\n",
    "\n",
    "# This is to make a video\n",
    "\n",
    "ga.evolve(freq_stats=10)\n",
    "\n",
    "best = ga.bestIndividual()"
   ]
  },
  {
   "cell_type": "code",
   "execution_count": 10,
   "metadata": {},
   "outputs": [
    {
     "name": "stdout",
     "output_type": "stream",
     "text": [
      "- GenomeBase\n",
      "\tScore:\t\t\t 3465.555332\n",
      "\tFitness:\t\t 3727.585771\n",
      "\n",
      "\tParams:\t\t {}\n",
      "\n",
      "\tSlot [Evaluator] (Count: 1)\n",
      "\t\tName: <lambda> - Weight: 0.50\n",
      "\tSlot [Initializator] (Count: 1)\n",
      "\t\tName: G1DListTSPInitializator - Weight: 0.50\n",
      "\t\tDoc:  The initializator for the TSP (We just shuffle the list) \n",
      "\tSlot [Mutator] (Count: 1)\n",
      "\t\tName: G1DListMutatorSwap - Weight: 0.50\n",
      "\t\tDoc:  The mutator of G1DList, Swap Mutator\n",
      "\n",
      "   .. note:: this mutator is :term:`Data Type Independent`\n",
      "\n",
      "   \n",
      "\tSlot [Crossover] (Count: 1)\n",
      "\t\tName: G1DListCrossoverEdge - Weight: 0.50\n",
      "\t\tDoc:  THe Edge Recombination crossover for G1DList (widely used for TSP problem)\n",
      "\n",
      "   See more information in the `Edge Recombination Operator <http://en.wikipedia.org/wiki/Edge_recombination_operator>`_\n",
      "   Wikipedia entry.\n",
      "   \n",
      "\n",
      "- G1DList\n",
      "\tList size:\t 14\n",
      "\tList:\t\t [9, 8, 10, 7, 1, 13, 2, 3, 4, 5, 11, 6, 12, 0]\n",
      "\n",
      "\n"
     ]
    }
   ],
   "source": [
    "print(best)"
   ]
  },
  {
   "cell_type": "code",
   "execution_count": null,
   "metadata": {},
   "outputs": [],
   "source": []
  },
  {
   "cell_type": "code",
   "execution_count": null,
   "metadata": {},
   "outputs": [],
   "source": []
  },
  {
   "cell_type": "code",
   "execution_count": null,
   "metadata": {},
   "outputs": [],
   "source": []
  }
 ],
 "metadata": {
  "kernelspec": {
   "display_name": "Python 3",
   "language": "python",
   "name": "python3"
  },
  "language_info": {
   "codemirror_mode": {
    "name": "ipython",
    "version": 3
   },
   "file_extension": ".py",
   "mimetype": "text/x-python",
   "name": "python",
   "nbconvert_exporter": "python",
   "pygments_lexer": "ipython3",
   "version": "3.6.4"
  }
 },
 "nbformat": 4,
 "nbformat_minor": 1
}
